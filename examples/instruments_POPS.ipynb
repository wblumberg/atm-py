{
 "cells": [
  {
   "cell_type": "markdown",
   "metadata": {},
   "source": [
    "# Introduction"
   ]
  },
  {
   "cell_type": "markdown",
   "metadata": {},
   "source": [
    "This collection of modules is in carche of reading, processing and simulating POPS related data. There are several different POPS specific modules which will be discussed in seperate notebooks:\n",
    "\n",
    "[peak](./instruments_POPS_peak.ipynb): This module is to process the peak-files which are created by POPS during operation. It will take care of sizing particles and creating size distributions.\n",
    "\n",
    "[housekeeping](./instruments_POPS_housekeeping.ipynb): This module precesses another file that is created by POPS, the housekeeping file.\n",
    "\n",
    "[raw](./instruments_POPS_raw.ipynb): Another file that is created during operation is the raw file. This module takes care of it.\n",
    "\n",
    "[calibration](./instruments_POPS_calibration.ipynb): This module handles/creates calibration files, which are used by the peak module.\n",
    "\n",
    "[mie](./instruments_POPS_mie.ipynb): Allows simulation of POPS calibration files.\n",
    "\n",
    "[serial](./instruments_POPS_serial.ipynb): POPS has the option to generate serial output. This module handles data files that contains this output.\n",
    "\n",
    "tools: it contains some function used by mie ... will probably be made invisible at some point"
   ]
  },
  {
   "cell_type": "code",
   "execution_count": 4,
   "metadata": {
    "run_control": {
     "frozen": false,
     "read_only": false
    }
   },
   "outputs": [],
   "source": [
    "from atmPy.aerosols.instruments.POPS import calibration\n",
    "from atmPy.aerosols.instruments.POPS import housekeeping\n",
    "from atmPy.aerosols.instruments.POPS import mie\n",
    "from atmPy.aerosols.instruments.POPS import peaks\n",
    "from atmPy.aerosols.instruments.POPS import raw\n",
    "from atmPy.aerosols.instruments.POPS import serial\n",
    "from atmPy.aerosols.instruments.POPS import tools"
   ]
  },
  {
   "cell_type": "code",
   "execution_count": null,
   "metadata": {},
   "outputs": [],
   "source": []
  }
 ],
 "metadata": {
  "hide_input": false,
  "kernelspec": {
   "display_name": "Python 3",
   "language": "python",
   "name": "python3"
  },
  "language_info": {
   "codemirror_mode": {
    "name": "ipython",
    "version": 3
   },
   "file_extension": ".py",
   "mimetype": "text/x-python",
   "name": "python",
   "nbconvert_exporter": "python",
   "pygments_lexer": "ipython3",
   "version": "3.7.3"
  },
  "nav_menu": {},
  "toc": {
   "navigate_menu": true,
   "number_sections": true,
   "sideBar": true,
   "threshold": 6,
   "toc_cell": false,
   "toc_section_display": "block",
   "toc_window_display": false
  }
 },
 "nbformat": 4,
 "nbformat_minor": 4
}
