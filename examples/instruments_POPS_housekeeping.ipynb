{
 "cells": [
  {
   "cell_type": "markdown",
   "metadata": {
    "run_control": {
     "frozen": false,
     "read_only": false
    }
   },
   "source": [
    "# Introduction"
   ]
  },
  {
   "cell_type": "markdown",
   "metadata": {
    "run_control": {
     "frozen": false,
     "read_only": false
    }
   },
   "source": [
    "This module is in charge of reading the POPS housekeeping file and converting it to a [TimeSeries instance](./timeseries.ipynb)."
   ]
  },
  {
   "cell_type": "markdown",
   "metadata": {
    "run_control": {
     "frozen": false,
     "read_only": false
    }
   },
   "source": [
    "# Imports"
   ]
  },
  {
   "cell_type": "code",
   "execution_count": 1,
   "metadata": {
    "ExecuteTime": {
     "end_time": "2017-08-20T17:10:29.545249Z",
     "start_time": "2017-08-20T17:10:28.444300Z"
    },
    "run_control": {
     "frozen": false,
     "read_only": false
    }
   },
   "outputs": [],
   "source": [
    "from atmPy.aerosols.instruments.POPS import housekeeping\n",
    "%matplotlib inline"
   ]
  },
  {
   "cell_type": "markdown",
   "metadata": {
    "run_control": {
     "frozen": false,
     "read_only": false
    }
   },
   "source": [
    "# Reading a housekeeping file"
   ]
  },
  {
   "cell_type": "code",
   "execution_count": 4,
   "metadata": {
    "ExecuteTime": {
     "end_time": "2016-07-27T09:29:28.747622",
     "start_time": "2016-07-27T09:29:28.666854"
    },
    "run_control": {
     "frozen": false,
     "read_only": false
    }
   },
   "outputs": [],
   "source": [
    "filename = './data/POPS_housekeeping.csv'\n",
    "hk = housekeeping.read_file(filename, version='sbRio')"
   ]
  },
  {
   "cell_type": "code",
   "execution_count": 5,
   "metadata": {
    "ExecuteTime": {
     "end_time": "2016-07-27T09:29:38.462640",
     "start_time": "2016-07-27T09:29:38.456621"
    },
    "run_control": {
     "frozen": false,
     "read_only": false
    }
   },
   "outputs": [
    {
     "data": {
      "text/plain": [
       "Index(['Time_s', 'Status', 'Flow_Rate_ccps', 'Particle_rate_nops', '12V_Mon',\n",
       "       'A1', 'A2', 'A3', 'Therm_1', 'Therm_2', 'TiltRef', 'POPS_Flow',\n",
       "       'POPS_P', 'ULR_AZ_Home', 'ULR_PD_T', 'ULR_Incl_x', 'ULR_Incl_y',\n",
       "       'ULR_Incl_T', 'POPS_LD_T', 'POPS_T_LED', 'POPS_LP_Set', 'MeanBL',\n",
       "       'stdDevBL'],\n",
       "      dtype='object')"
      ]
     },
     "execution_count": 5,
     "metadata": {},
     "output_type": "execute_result"
    }
   ],
   "source": [
    "hk.data.columns"
   ]
  },
  {
   "cell_type": "code",
   "execution_count": 6,
   "metadata": {
    "ExecuteTime": {
     "end_time": "2016-07-27T09:51:50.636162",
     "start_time": "2016-07-27T09:51:49.273223"
    },
    "run_control": {
     "frozen": false,
     "read_only": false
    }
   },
   "outputs": [
    {
     "data": {
      "text/plain": [
       "<matplotlib.axes._subplots.AxesSubplot at 0x7fcd21fa3898>"
      ]
     },
     "execution_count": 6,
     "metadata": {},
     "output_type": "execute_result"
    },
    {
     "data": {
      "image/png": "[encoded data removed]",
      "text/plain": [
       "<Figure size 432x288 with 1 Axes>"
      ]
     },
     "metadata": {
      "needs_background": "light"
     },
     "output_type": "display_data"
    }
   ],
   "source": [
    "hk.data.stdDevBL.plot()"
   ]
  },
  {
   "cell_type": "markdown",
   "metadata": {
    "run_control": {
     "frozen": false,
     "read_only": false
    }
   },
   "source": [
    "Done! hk is an instance of TimeSeries and you can do with it what ever the instance is capable of ([see here](./timeseries.ipynb)). E.g. plot stuff."
   ]
  },
  {
   "cell_type": "code",
   "execution_count": 7,
   "metadata": {
    "run_control": {
     "frozen": false,
     "read_only": false
    }
   },
   "outputs": [
    {
     "ename": "AttributeError",
     "evalue": "'POPSHouseKeeping' object has no attribute 'plot_all'",
     "output_type": "error",
     "traceback": [
      "\u001b[0;31m---------------------------------------------------------------------------\u001b[0m",
      "\u001b[0;31mAttributeError\u001b[0m                            Traceback (most recent call last)",
      "\u001b[0;32m<ipython-input-7-5f69a8845c9f>\u001b[0m in \u001b[0;36m<module>\u001b[0;34m\u001b[0m\n\u001b[0;32m----> 1\u001b[0;31m \u001b[0mout\u001b[0m \u001b[0;34m=\u001b[0m \u001b[0mhk\u001b[0m\u001b[0;34m.\u001b[0m\u001b[0mplot_all\u001b[0m\u001b[0;34m(\u001b[0m\u001b[0;34m)\u001b[0m\u001b[0;34m\u001b[0m\u001b[0;34m\u001b[0m\u001b[0m\n\u001b[0m",
      "\u001b[0;31mAttributeError\u001b[0m: 'POPSHouseKeeping' object has no attribute 'plot_all'"
     ]
    }
   ],
   "source": [
    "out = hk.plot_all()"
   ]
  },
  {
   "cell_type": "code",
   "execution_count": 8,
   "metadata": {
    "ExecuteTime": {
     "end_time": "2017-08-20T17:10:54.729772Z",
     "start_time": "2017-08-20T17:10:54.726129Z"
    }
   },
   "outputs": [],
   "source": [
    "from atmPy.aerosols.instruments import POPS"
   ]
  },
  {
   "cell_type": "code",
   "execution_count": 9,
   "metadata": {
    "ExecuteTime": {
     "end_time": "2017-08-20T17:50:50.668478Z",
     "start_time": "2017-08-20T17:50:50.661542Z"
    }
   },
   "outputs": [
    {
     "ename": "NameError",
     "evalue": "name 'reload' is not defined",
     "output_type": "error",
     "traceback": [
      "\u001b[0;31m---------------------------------------------------------------------------\u001b[0m",
      "\u001b[0;31mNameError\u001b[0m                                 Traceback (most recent call last)",
      "\u001b[0;32m<ipython-input-9-ade5fea1ccd8>\u001b[0m in \u001b[0;36m<module>\u001b[0;34m\u001b[0m\n\u001b[0;32m----> 1\u001b[0;31m \u001b[0mreload\u001b[0m\u001b[0;34m(\u001b[0m\u001b[0mPOPS\u001b[0m\u001b[0;34m)\u001b[0m\u001b[0;34m\u001b[0m\u001b[0;34m\u001b[0m\u001b[0m\n\u001b[0m\u001b[1;32m      2\u001b[0m \u001b[0mreload\u001b[0m\u001b[0;34m(\u001b[0m\u001b[0mPOPS\u001b[0m\u001b[0;34m.\u001b[0m\u001b[0mhousekeeping\u001b[0m\u001b[0;34m)\u001b[0m\u001b[0;34m\u001b[0m\u001b[0;34m\u001b[0m\u001b[0m\n",
      "\u001b[0;31mNameError\u001b[0m: name 'reload' is not defined"
     ]
    }
   ],
   "source": [
    "reload(POPS)\n",
    "reload(POPS.housekeeping)"
   ]
  },
  {
   "cell_type": "code",
   "execution_count": 34,
   "metadata": {
    "ExecuteTime": {
     "end_time": "2017-08-20T17:50:55.806710Z",
     "start_time": "2017-08-20T17:50:55.365733Z"
    },
    "run_control": {
     "frozen": false,
     "read_only": false
    }
   },
   "outputs": [],
   "source": [
    "fname = '/Users/htelg/data/2017_ICARUS/POPS_SN14_ambient_more_raw/F20170523/HK_20170523x001.csv'\n",
    "hk = POPS.read_housekeeping(fname)"
   ]
  },
  {
   "cell_type": "code",
   "execution_count": 36,
   "metadata": {
    "ExecuteTime": {
     "end_time": "2017-08-20T17:52:51.412765Z",
     "start_time": "2017-08-20T17:52:51.398291Z"
    }
   },
   "outputs": [
    {
     "name": "stdout",
     "output_type": "stream",
     "text": [
      "Status\n",
      "PartCt\n",
      "PartCon\n",
      "BL\n",
      "BLTH\n",
      "STD\n",
      "P\n",
      "TofP\n",
      "POPS_Flow\n",
      "PumpFB\n",
      "LDTemp\n",
      "LaserFB\n",
      "LD_Mon\n",
      "Temp\n",
      "BatV\n",
      "Laser_Current\n",
      "Flow_Set\n",
      "BL_Start\n",
      "TH_Mult\n",
      "nbins\n",
      "logmin\n",
      "logmax\n",
      "Skip_Save\n",
      "MinPeakPts\n",
      "MaxPeakPts\n",
      "RawPts\n",
      "Barometric_pressure\n"
     ]
    }
   ],
   "source": [
    "for col in hk.data.columns:\n",
    "    print(col)"
   ]
  },
  {
   "cell_type": "code",
   "execution_count": 39,
   "metadata": {
    "ExecuteTime": {
     "end_time": "2017-08-20T17:55:01.385946Z",
     "start_time": "2017-08-20T17:55:01.377155Z"
    },
    "collapsed": true,
    "jupyter": {
     "outputs_hidden": true
    }
   },
   "outputs": [],
   "source": [
    "sel = hk._del_all_columns_but(['Temp','TofP','LDTemp'])"
   ]
  },
  {
   "cell_type": "code",
   "execution_count": 40,
   "metadata": {
    "ExecuteTime": {
     "end_time": "2017-08-20T17:55:02.353554Z",
     "start_time": "2017-08-20T17:55:01.664116Z"
    }
   },
   "outputs": [
    {
     "data": {
      "text/plain": [
       "<matplotlib.axes._subplots.AxesSubplot at 0x11902a1d0>"
      ]
     },
     "execution_count": 40,
     "metadata": {},
     "output_type": "execute_result"
    },
    {
     "data": {
      "image/png": "[encoded data removed]",
      "text/plain": [
       "<matplotlib.figure.Figure at 0x1164b3c88>"
      ]
     },
     "metadata": {},
     "output_type": "display_data"
    }
   ],
   "source": [
    "sel.data.plot()"
   ]
  },
  {
   "cell_type": "code",
   "execution_count": 41,
   "metadata": {
    "ExecuteTime": {
     "end_time": "2017-08-20T21:27:25.484824Z",
     "start_time": "2017-08-20T21:27:25.467325Z"
    }
   },
   "outputs": [
    {
     "data": {
      "text/plain": [
       "(Timestamp('2017-05-23 16:45:59.288000'),\n",
       " Timestamp('2017-05-23 22:34:47.301000'))"
      ]
     },
     "execution_count": 41,
     "metadata": {},
     "output_type": "execute_result"
    }
   ],
   "source": [
    "hk.get_timespan()"
   ]
  },
  {
   "cell_type": "code",
   "execution_count": null,
   "metadata": {
    "collapsed": true,
    "jupyter": {
     "outputs_hidden": true
    }
   },
   "outputs": [],
   "source": []
  },
  {
   "cell_type": "code",
   "execution_count": 12,
   "metadata": {
    "ExecuteTime": {
     "end_time": "2017-08-20T17:40:47.255110Z",
     "start_time": "2017-08-20T17:40:47.237698Z"
    }
   },
   "outputs": [
    {
     "data": {
      "text/plain": [
       "array(['DateTime', 'Status', 'PartCt', 'PartCon', 'BL', 'BLTH', 'STD', 'P',\n",
       "       'TofP', 'POPS_Flow', 'PumpFB', 'LDTemp', 'LaserFB', 'LD_Mon',\n",
       "       'Temp', 'BatV', 'Laser_Current', 'Flow_Set', 'BL_Start', 'TH_Mult',\n",
       "       'nbins', 'logmin', 'logmax', 'Skip_Save', 'MinPeakPts',\n",
       "       'MaxPeakPts', 'RawPts'],\n",
       "      dtype='<U14')"
      ]
     },
     "execution_count": 12,
     "metadata": {},
     "output_type": "execute_result"
    }
   ],
   "source": [
    "col_names = pd.read_csv(fname, sep=',', nrows=1, header=None,\n",
    "                         #             index_col=1,\n",
    "                         #             usecols=np.arange()\n",
    "                         ).values[0][:-1].astype(str)\n",
    "col_names = np.char.strip(col_names)\n",
    "col_names"
   ]
  },
  {
   "cell_type": "code",
   "execution_count": 18,
   "metadata": {
    "ExecuteTime": {
     "end_time": "2017-08-20T17:43:08.270922Z",
     "start_time": "2017-08-20T17:43:07.823053Z"
    },
    "collapsed": true,
    "jupyter": {
     "outputs_hidden": true
    }
   },
   "outputs": [],
   "source": [
    "col_names = pd.read_csv(fname, sep=',', nrows=1, header=None,\n",
    "                         #             index_col=1,\n",
    "                         #             usecols=np.arange()\n",
    "                         ).values[0][:-1].astype(str)\n",
    "col_names = np.char.strip(col_names)\n",
    "\n",
    "data = pd.read_csv(fname, sep=',', skiprows=1, header=None,\n",
    "                    #             index_col=1,\n",
    "                    #             usecols=np.arange()\n",
    "                    )\n",
    "\n",
    "data_hk = data.iloc[:, :27]\n",
    "data_hk.columns = col_names\n",
    "data_hk.index = pd.to_datetime(data_hk['DateTime'], unit='s')\n",
    "data_hk.drop('DateTime', axis=1, inplace=True)\n",
    "#     hk = atmPy.general.timeseries.TimeSeries(data_hk, sampling_period = 1)\n",
    "\n",
    "hk = _housekeeping.POPSHouseKeeping(data_hk, sampling_period=1)\n",
    "hk.data['Barometric_pressure'] = hk.data['P']"
   ]
  },
  {
   "cell_type": "code",
   "execution_count": 13,
   "metadata": {
    "ExecuteTime": {
     "end_time": "2017-08-20T17:41:11.355085Z",
     "start_time": "2017-08-20T17:41:11.239563Z"
    },
    "run_control": {
     "marked": false
    }
   },
   "outputs": [
    {
     "data": {
      "text/html": [
       "<div>\n",
       "<style>\n",
       "    .dataframe thead tr:only-child th {\n",
       "        text-align: right;\n",
       "    }\n",
       "\n",
       "    .dataframe thead th {\n",
       "        text-align: left;\n",
       "    }\n",
       "\n",
       "    .dataframe tbody tr th {\n",
       "        vertical-align: top;\n",
       "    }\n",
       "</style>\n",
       "<table border=\"1\" class=\"dataframe\">\n",
       "  <thead>\n",
       "    <tr style=\"text-align: right;\">\n",
       "      <th></th>\n",
       "      <th>1495557959.288</th>\n",
       "      <th>1</th>\n",
       "      <th>0</th>\n",
       "      <th>0.00</th>\n",
       "      <th>2261</th>\n",
       "    </tr>\n",
       "  </thead>\n",
       "  <tbody>\n",
       "    <tr>\n",
       "      <th>0</th>\n",
       "      <td>1.495558e+09</td>\n",
       "      <td>1</td>\n",
       "      <td>3</td>\n",
       "      <td>6.02</td>\n",
       "      <td>2258</td>\n",
       "    </tr>\n",
       "    <tr>\n",
       "      <th>1</th>\n",
       "      <td>1.495558e+09</td>\n",
       "      <td>1</td>\n",
       "      <td>6</td>\n",
       "      <td>12.05</td>\n",
       "      <td>2258</td>\n",
       "    </tr>\n",
       "    <tr>\n",
       "      <th>2</th>\n",
       "      <td>1.495558e+09</td>\n",
       "      <td>1</td>\n",
       "      <td>4</td>\n",
       "      <td>8.03</td>\n",
       "      <td>2259</td>\n",
       "    </tr>\n",
       "    <tr>\n",
       "      <th>3</th>\n",
       "      <td>1.495558e+09</td>\n",
       "      <td>1</td>\n",
       "      <td>3</td>\n",
       "      <td>6.09</td>\n",
       "      <td>2260</td>\n",
       "    </tr>\n",
       "    <tr>\n",
       "      <th>4</th>\n",
       "      <td>1.495558e+09</td>\n",
       "      <td>1</td>\n",
       "      <td>4</td>\n",
       "      <td>7.94</td>\n",
       "      <td>2259</td>\n",
       "    </tr>\n",
       "    <tr>\n",
       "      <th>5</th>\n",
       "      <td>1.495558e+09</td>\n",
       "      <td>1</td>\n",
       "      <td>1</td>\n",
       "      <td>1.99</td>\n",
       "      <td>2260</td>\n",
       "    </tr>\n",
       "    <tr>\n",
       "      <th>6</th>\n",
       "      <td>1.495558e+09</td>\n",
       "      <td>1</td>\n",
       "      <td>1</td>\n",
       "      <td>1.99</td>\n",
       "      <td>2261</td>\n",
       "    </tr>\n",
       "    <tr>\n",
       "      <th>7</th>\n",
       "      <td>1.495558e+09</td>\n",
       "      <td>1</td>\n",
       "      <td>4</td>\n",
       "      <td>8.03</td>\n",
       "      <td>2260</td>\n",
       "    </tr>\n",
       "    <tr>\n",
       "      <th>8</th>\n",
       "      <td>1.495558e+09</td>\n",
       "      <td>1</td>\n",
       "      <td>3</td>\n",
       "      <td>5.96</td>\n",
       "      <td>2260</td>\n",
       "    </tr>\n",
       "    <tr>\n",
       "      <th>9</th>\n",
       "      <td>1.495558e+09</td>\n",
       "      <td>1</td>\n",
       "      <td>7</td>\n",
       "      <td>14.06</td>\n",
       "      <td>2260</td>\n",
       "    </tr>\n",
       "    <tr>\n",
       "      <th>10</th>\n",
       "      <td>1.495558e+09</td>\n",
       "      <td>1</td>\n",
       "      <td>4</td>\n",
       "      <td>8.03</td>\n",
       "      <td>2257</td>\n",
       "    </tr>\n",
       "    <tr>\n",
       "      <th>11</th>\n",
       "      <td>1.495558e+09</td>\n",
       "      <td>1</td>\n",
       "      <td>2</td>\n",
       "      <td>2.19</td>\n",
       "      <td>2258</td>\n",
       "    </tr>\n",
       "    <tr>\n",
       "      <th>12</th>\n",
       "      <td>1.495558e+09</td>\n",
       "      <td>1</td>\n",
       "      <td>36</td>\n",
       "      <td>13.91</td>\n",
       "      <td>2257</td>\n",
       "    </tr>\n",
       "    <tr>\n",
       "      <th>13</th>\n",
       "      <td>1.495558e+09</td>\n",
       "      <td>1</td>\n",
       "      <td>99</td>\n",
       "      <td>33.97</td>\n",
       "      <td>2256</td>\n",
       "    </tr>\n",
       "    <tr>\n",
       "      <th>14</th>\n",
       "      <td>1.495558e+09</td>\n",
       "      <td>1</td>\n",
       "      <td>11</td>\n",
       "      <td>3.74</td>\n",
       "      <td>2257</td>\n",
       "    </tr>\n",
       "    <tr>\n",
       "      <th>15</th>\n",
       "      <td>1.495558e+09</td>\n",
       "      <td>1</td>\n",
       "      <td>7</td>\n",
       "      <td>2.37</td>\n",
       "      <td>2257</td>\n",
       "    </tr>\n",
       "    <tr>\n",
       "      <th>16</th>\n",
       "      <td>1.495558e+09</td>\n",
       "      <td>1</td>\n",
       "      <td>15</td>\n",
       "      <td>5.09</td>\n",
       "      <td>2258</td>\n",
       "    </tr>\n",
       "    <tr>\n",
       "      <th>17</th>\n",
       "      <td>1.495558e+09</td>\n",
       "      <td>1</td>\n",
       "      <td>21</td>\n",
       "      <td>7.05</td>\n",
       "      <td>2260</td>\n",
       "    </tr>\n",
       "    <tr>\n",
       "      <th>18</th>\n",
       "      <td>1.495558e+09</td>\n",
       "      <td>1</td>\n",
       "      <td>18</td>\n",
       "      <td>6.07</td>\n",
       "      <td>2261</td>\n",
       "    </tr>\n",
       "    <tr>\n",
       "      <th>19</th>\n",
       "      <td>1.495558e+09</td>\n",
       "      <td>1</td>\n",
       "      <td>7</td>\n",
       "      <td>2.35</td>\n",
       "      <td>2260</td>\n",
       "    </tr>\n",
       "    <tr>\n",
       "      <th>20</th>\n",
       "      <td>1.495558e+09</td>\n",
       "      <td>1</td>\n",
       "      <td>7</td>\n",
       "      <td>2.38</td>\n",
       "      <td>2262</td>\n",
       "    </tr>\n",
       "    <tr>\n",
       "      <th>21</th>\n",
       "      <td>1.495558e+09</td>\n",
       "      <td>1</td>\n",
       "      <td>9</td>\n",
       "      <td>3.04</td>\n",
       "      <td>2260</td>\n",
       "    </tr>\n",
       "    <tr>\n",
       "      <th>22</th>\n",
       "      <td>1.495558e+09</td>\n",
       "      <td>1</td>\n",
       "      <td>8</td>\n",
       "      <td>2.70</td>\n",
       "      <td>2263</td>\n",
       "    </tr>\n",
       "    <tr>\n",
       "      <th>23</th>\n",
       "      <td>1.495558e+09</td>\n",
       "      <td>1</td>\n",
       "      <td>8</td>\n",
       "      <td>2.72</td>\n",
       "      <td>2262</td>\n",
       "    </tr>\n",
       "    <tr>\n",
       "      <th>24</th>\n",
       "      <td>1.495558e+09</td>\n",
       "      <td>1</td>\n",
       "      <td>12</td>\n",
       "      <td>4.06</td>\n",
       "      <td>2261</td>\n",
       "    </tr>\n",
       "    <tr>\n",
       "      <th>25</th>\n",
       "      <td>1.495558e+09</td>\n",
       "      <td>1</td>\n",
       "      <td>6</td>\n",
       "      <td>2.03</td>\n",
       "      <td>2261</td>\n",
       "    </tr>\n",
       "    <tr>\n",
       "      <th>26</th>\n",
       "      <td>1.495558e+09</td>\n",
       "      <td>1</td>\n",
       "      <td>7</td>\n",
       "      <td>2.38</td>\n",
       "      <td>2261</td>\n",
       "    </tr>\n",
       "    <tr>\n",
       "      <th>27</th>\n",
       "      <td>1.495558e+09</td>\n",
       "      <td>1</td>\n",
       "      <td>10</td>\n",
       "      <td>3.36</td>\n",
       "      <td>2261</td>\n",
       "    </tr>\n",
       "    <tr>\n",
       "      <th>28</th>\n",
       "      <td>1.495558e+09</td>\n",
       "      <td>1</td>\n",
       "      <td>7</td>\n",
       "      <td>2.35</td>\n",
       "      <td>2261</td>\n",
       "    </tr>\n",
       "    <tr>\n",
       "      <th>29</th>\n",
       "      <td>1.495558e+09</td>\n",
       "      <td>1</td>\n",
       "      <td>8</td>\n",
       "      <td>2.70</td>\n",
       "      <td>2260</td>\n",
       "    </tr>\n",
       "    <tr>\n",
       "      <th>...</th>\n",
       "      <td>...</td>\n",
       "      <td>...</td>\n",
       "      <td>...</td>\n",
       "      <td>...</td>\n",
       "      <td>...</td>\n",
       "    </tr>\n",
       "    <tr>\n",
       "      <th>20898</th>\n",
       "      <td>1.495579e+09</td>\n",
       "      <td>1</td>\n",
       "      <td>636</td>\n",
       "      <td>213.05</td>\n",
       "      <td>2241</td>\n",
       "    </tr>\n",
       "    <tr>\n",
       "      <th>20899</th>\n",
       "      <td>1.495579e+09</td>\n",
       "      <td>1</td>\n",
       "      <td>466</td>\n",
       "      <td>156.96</td>\n",
       "      <td>2241</td>\n",
       "    </tr>\n",
       "    <tr>\n",
       "      <th>20900</th>\n",
       "      <td>1.495579e+09</td>\n",
       "      <td>1</td>\n",
       "      <td>354</td>\n",
       "      <td>119.68</td>\n",
       "      <td>2242</td>\n",
       "    </tr>\n",
       "    <tr>\n",
       "      <th>20901</th>\n",
       "      <td>1.495579e+09</td>\n",
       "      <td>1</td>\n",
       "      <td>208</td>\n",
       "      <td>71.10</td>\n",
       "      <td>2241</td>\n",
       "    </tr>\n",
       "    <tr>\n",
       "      <th>20902</th>\n",
       "      <td>1.495579e+09</td>\n",
       "      <td>1</td>\n",
       "      <td>141</td>\n",
       "      <td>45.98</td>\n",
       "      <td>2243</td>\n",
       "    </tr>\n",
       "    <tr>\n",
       "      <th>20903</th>\n",
       "      <td>1.495579e+09</td>\n",
       "      <td>1</td>\n",
       "      <td>166</td>\n",
       "      <td>56.33</td>\n",
       "      <td>2242</td>\n",
       "    </tr>\n",
       "    <tr>\n",
       "      <th>20904</th>\n",
       "      <td>1.495579e+09</td>\n",
       "      <td>1</td>\n",
       "      <td>224</td>\n",
       "      <td>76.72</td>\n",
       "      <td>2242</td>\n",
       "    </tr>\n",
       "    <tr>\n",
       "      <th>20905</th>\n",
       "      <td>1.495579e+09</td>\n",
       "      <td>1</td>\n",
       "      <td>298</td>\n",
       "      <td>100.93</td>\n",
       "      <td>2245</td>\n",
       "    </tr>\n",
       "    <tr>\n",
       "      <th>20906</th>\n",
       "      <td>1.495579e+09</td>\n",
       "      <td>1</td>\n",
       "      <td>1220</td>\n",
       "      <td>408.69</td>\n",
       "      <td>2244</td>\n",
       "    </tr>\n",
       "    <tr>\n",
       "      <th>20907</th>\n",
       "      <td>1.495579e+09</td>\n",
       "      <td>1</td>\n",
       "      <td>1342</td>\n",
       "      <td>442.30</td>\n",
       "      <td>2243</td>\n",
       "    </tr>\n",
       "    <tr>\n",
       "      <th>20908</th>\n",
       "      <td>1.495579e+09</td>\n",
       "      <td>1</td>\n",
       "      <td>774</td>\n",
       "      <td>260.23</td>\n",
       "      <td>2242</td>\n",
       "    </tr>\n",
       "    <tr>\n",
       "      <th>20909</th>\n",
       "      <td>1.495579e+09</td>\n",
       "      <td>1</td>\n",
       "      <td>639</td>\n",
       "      <td>218.44</td>\n",
       "      <td>2245</td>\n",
       "    </tr>\n",
       "    <tr>\n",
       "      <th>20910</th>\n",
       "      <td>1.495579e+09</td>\n",
       "      <td>1</td>\n",
       "      <td>674</td>\n",
       "      <td>228.28</td>\n",
       "      <td>2242</td>\n",
       "    </tr>\n",
       "    <tr>\n",
       "      <th>20911</th>\n",
       "      <td>1.495579e+09</td>\n",
       "      <td>1</td>\n",
       "      <td>1130</td>\n",
       "      <td>380.62</td>\n",
       "      <td>2243</td>\n",
       "    </tr>\n",
       "    <tr>\n",
       "      <th>20912</th>\n",
       "      <td>1.495579e+09</td>\n",
       "      <td>1</td>\n",
       "      <td>564</td>\n",
       "      <td>191.73</td>\n",
       "      <td>2242</td>\n",
       "    </tr>\n",
       "    <tr>\n",
       "      <th>20913</th>\n",
       "      <td>1.495579e+09</td>\n",
       "      <td>1</td>\n",
       "      <td>588</td>\n",
       "      <td>200.26</td>\n",
       "      <td>2244</td>\n",
       "    </tr>\n",
       "    <tr>\n",
       "      <th>20914</th>\n",
       "      <td>1.495579e+09</td>\n",
       "      <td>1</td>\n",
       "      <td>812</td>\n",
       "      <td>274.52</td>\n",
       "      <td>2243</td>\n",
       "    </tr>\n",
       "    <tr>\n",
       "      <th>20915</th>\n",
       "      <td>1.495579e+09</td>\n",
       "      <td>1</td>\n",
       "      <td>856</td>\n",
       "      <td>292.08</td>\n",
       "      <td>2244</td>\n",
       "    </tr>\n",
       "    <tr>\n",
       "      <th>20916</th>\n",
       "      <td>1.495579e+09</td>\n",
       "      <td>1</td>\n",
       "      <td>1518</td>\n",
       "      <td>521.84</td>\n",
       "      <td>2241</td>\n",
       "    </tr>\n",
       "    <tr>\n",
       "      <th>20917</th>\n",
       "      <td>1.495579e+09</td>\n",
       "      <td>1</td>\n",
       "      <td>917</td>\n",
       "      <td>313.47</td>\n",
       "      <td>2245</td>\n",
       "    </tr>\n",
       "    <tr>\n",
       "      <th>20918</th>\n",
       "      <td>1.495579e+09</td>\n",
       "      <td>1</td>\n",
       "      <td>691</td>\n",
       "      <td>233.18</td>\n",
       "      <td>2243</td>\n",
       "    </tr>\n",
       "    <tr>\n",
       "      <th>20919</th>\n",
       "      <td>1.495579e+09</td>\n",
       "      <td>1</td>\n",
       "      <td>639</td>\n",
       "      <td>206.53</td>\n",
       "      <td>2240</td>\n",
       "    </tr>\n",
       "    <tr>\n",
       "      <th>20920</th>\n",
       "      <td>1.495579e+09</td>\n",
       "      <td>1</td>\n",
       "      <td>287</td>\n",
       "      <td>97.75</td>\n",
       "      <td>2243</td>\n",
       "    </tr>\n",
       "    <tr>\n",
       "      <th>20921</th>\n",
       "      <td>1.495579e+09</td>\n",
       "      <td>1</td>\n",
       "      <td>330</td>\n",
       "      <td>112.39</td>\n",
       "      <td>2242</td>\n",
       "    </tr>\n",
       "    <tr>\n",
       "      <th>20922</th>\n",
       "      <td>1.495579e+09</td>\n",
       "      <td>1</td>\n",
       "      <td>270</td>\n",
       "      <td>90.78</td>\n",
       "      <td>2242</td>\n",
       "    </tr>\n",
       "    <tr>\n",
       "      <th>20923</th>\n",
       "      <td>1.495579e+09</td>\n",
       "      <td>1</td>\n",
       "      <td>160</td>\n",
       "      <td>54.59</td>\n",
       "      <td>2240</td>\n",
       "    </tr>\n",
       "    <tr>\n",
       "      <th>20924</th>\n",
       "      <td>1.495579e+09</td>\n",
       "      <td>1</td>\n",
       "      <td>211</td>\n",
       "      <td>72.53</td>\n",
       "      <td>2241</td>\n",
       "    </tr>\n",
       "    <tr>\n",
       "      <th>20925</th>\n",
       "      <td>1.495579e+09</td>\n",
       "      <td>1</td>\n",
       "      <td>154</td>\n",
       "      <td>51.12</td>\n",
       "      <td>2241</td>\n",
       "    </tr>\n",
       "    <tr>\n",
       "      <th>20926</th>\n",
       "      <td>1.495579e+09</td>\n",
       "      <td>1</td>\n",
       "      <td>147</td>\n",
       "      <td>50.44</td>\n",
       "      <td>2241</td>\n",
       "    </tr>\n",
       "    <tr>\n",
       "      <th>20927</th>\n",
       "      <td>1.495579e+09</td>\n",
       "      <td>1</td>\n",
       "      <td>86</td>\n",
       "      <td>28.97</td>\n",
       "      <td>2243</td>\n",
       "    </tr>\n",
       "  </tbody>\n",
       "</table>\n",
       "<p>20928 rows × 5 columns</p>\n",
       "</div>"
      ],
      "text/plain": [
       "       1495557959.288  1     0    0.00  2261\n",
       "0        1.495558e+09  1     3    6.02  2258\n",
       "1        1.495558e+09  1     6   12.05  2258\n",
       "2        1.495558e+09  1     4    8.03  2259\n",
       "3        1.495558e+09  1     3    6.09  2260\n",
       "4        1.495558e+09  1     4    7.94  2259\n",
       "5        1.495558e+09  1     1    1.99  2260\n",
       "6        1.495558e+09  1     1    1.99  2261\n",
       "7        1.495558e+09  1     4    8.03  2260\n",
       "8        1.495558e+09  1     3    5.96  2260\n",
       "9        1.495558e+09  1     7   14.06  2260\n",
       "10       1.495558e+09  1     4    8.03  2257\n",
       "11       1.495558e+09  1     2    2.19  2258\n",
       "12       1.495558e+09  1    36   13.91  2257\n",
       "13       1.495558e+09  1    99   33.97  2256\n",
       "14       1.495558e+09  1    11    3.74  2257\n",
       "15       1.495558e+09  1     7    2.37  2257\n",
       "16       1.495558e+09  1    15    5.09  2258\n",
       "17       1.495558e+09  1    21    7.05  2260\n",
       "18       1.495558e+09  1    18    6.07  2261\n",
       "19       1.495558e+09  1     7    2.35  2260\n",
       "20       1.495558e+09  1     7    2.38  2262\n",
       "21       1.495558e+09  1     9    3.04  2260\n",
       "22       1.495558e+09  1     8    2.70  2263\n",
       "23       1.495558e+09  1     8    2.72  2262\n",
       "24       1.495558e+09  1    12    4.06  2261\n",
       "25       1.495558e+09  1     6    2.03  2261\n",
       "26       1.495558e+09  1     7    2.38  2261\n",
       "27       1.495558e+09  1    10    3.36  2261\n",
       "28       1.495558e+09  1     7    2.35  2261\n",
       "29       1.495558e+09  1     8    2.70  2260\n",
       "...               ... ..   ...     ...   ...\n",
       "20898    1.495579e+09  1   636  213.05  2241\n",
       "20899    1.495579e+09  1   466  156.96  2241\n",
       "20900    1.495579e+09  1   354  119.68  2242\n",
       "20901    1.495579e+09  1   208   71.10  2241\n",
       "20902    1.495579e+09  1   141   45.98  2243\n",
       "20903    1.495579e+09  1   166   56.33  2242\n",
       "20904    1.495579e+09  1   224   76.72  2242\n",
       "20905    1.495579e+09  1   298  100.93  2245\n",
       "20906    1.495579e+09  1  1220  408.69  2244\n",
       "20907    1.495579e+09  1  1342  442.30  2243\n",
       "20908    1.495579e+09  1   774  260.23  2242\n",
       "20909    1.495579e+09  1   639  218.44  2245\n",
       "20910    1.495579e+09  1   674  228.28  2242\n",
       "20911    1.495579e+09  1  1130  380.62  2243\n",
       "20912    1.495579e+09  1   564  191.73  2242\n",
       "20913    1.495579e+09  1   588  200.26  2244\n",
       "20914    1.495579e+09  1   812  274.52  2243\n",
       "20915    1.495579e+09  1   856  292.08  2244\n",
       "20916    1.495579e+09  1  1518  521.84  2241\n",
       "20917    1.495579e+09  1   917  313.47  2245\n",
       "20918    1.495579e+09  1   691  233.18  2243\n",
       "20919    1.495579e+09  1   639  206.53  2240\n",
       "20920    1.495579e+09  1   287   97.75  2243\n",
       "20921    1.495579e+09  1   330  112.39  2242\n",
       "20922    1.495579e+09  1   270   90.78  2242\n",
       "20923    1.495579e+09  1   160   54.59  2240\n",
       "20924    1.495579e+09  1   211   72.53  2241\n",
       "20925    1.495579e+09  1   154   51.12  2241\n",
       "20926    1.495579e+09  1   147   50.44  2241\n",
       "20927    1.495579e+09  1    86   28.97  2243\n",
       "\n",
       "[20928 rows x 5 columns]"
      ]
     },
     "execution_count": 13,
     "metadata": {},
     "output_type": "execute_result"
    }
   ],
   "source": [
    "col_names = pd.read_csv(fname, sep=',', nrows=1, header=None).values[0][:-1].astype(str)\n",
    "col_names = np.char.strip(col_names)\n",
    "pd.read_csv(fname, usecols=range(5), skiprows=1, )"
   ]
  },
  {
   "cell_type": "code",
   "execution_count": null,
   "metadata": {},
   "outputs": [],
   "source": []
  },
  {
   "cell_type": "code",
   "execution_count": null,
   "metadata": {
    "collapsed": true,
    "jupyter": {
     "outputs_hidden": true
    }
   },
   "outputs": [],
   "source": []
  },
  {
   "cell_type": "code",
   "execution_count": null,
   "metadata": {
    "collapsed": true,
    "jupyter": {
     "outputs_hidden": true
    }
   },
   "outputs": [],
   "source": []
  },
  {
   "cell_type": "code",
   "execution_count": null,
   "metadata": {
    "collapsed": true,
    "jupyter": {
     "outputs_hidden": true
    }
   },
   "outputs": [],
   "source": []
  },
  {
   "cell_type": "code",
   "execution_count": null,
   "metadata": {
    "collapsed": true,
    "jupyter": {
     "outputs_hidden": true
    }
   },
   "outputs": [],
   "source": []
  },
  {
   "cell_type": "code",
   "execution_count": null,
   "metadata": {
    "collapsed": true,
    "jupyter": {
     "outputs_hidden": true
    }
   },
   "outputs": [],
   "source": []
  },
  {
   "cell_type": "code",
   "execution_count": null,
   "metadata": {
    "collapsed": true,
    "jupyter": {
     "outputs_hidden": true
    }
   },
   "outputs": [],
   "source": []
  },
  {
   "cell_type": "code",
   "execution_count": null,
   "metadata": {
    "collapsed": true,
    "jupyter": {
     "outputs_hidden": true
    }
   },
   "outputs": [],
   "source": []
  },
  {
   "cell_type": "code",
   "execution_count": null,
   "metadata": {
    "collapsed": true,
    "jupyter": {
     "outputs_hidden": true
    }
   },
   "outputs": [],
   "source": []
  },
  {
   "cell_type": "code",
   "execution_count": null,
   "metadata": {
    "collapsed": true,
    "jupyter": {
     "outputs_hidden": true
    }
   },
   "outputs": [],
   "source": []
  },
  {
   "cell_type": "code",
   "execution_count": null,
   "metadata": {
    "collapsed": true,
    "jupyter": {
     "outputs_hidden": true
    }
   },
   "outputs": [],
   "source": []
  },
  {
   "cell_type": "code",
   "execution_count": null,
   "metadata": {
    "collapsed": true,
    "jupyter": {
     "outputs_hidden": true
    }
   },
   "outputs": [],
   "source": []
  }
 ],
 "metadata": {
  "hide_input": false,
  "kernelspec": {
   "display_name": "Python 3",
   "language": "python",
   "name": "python3"
  },
  "language_info": {
   "codemirror_mode": {
    "name": "ipython",
    "version": 3
   },
   "file_extension": ".py",
   "mimetype": "text/x-python",
   "name": "python",
   "nbconvert_exporter": "python",
   "pygments_lexer": "ipython3",
   "version": "3.7.3"
  },
  "nav_menu": {},
  "toc": {
   "colors": {
    "hover_highlight": "#DAA520",
    "running_highlight": "#FF0000",
    "selected_highlight": "#FFD700"
   },
   "moveMenuLeft": true,
   "nav_menu": {
    "height": "66px",
    "width": "252px"
   },
   "navigate_menu": true,
   "number_sections": true,
   "sideBar": true,
   "threshold": 4,
   "toc_cell": false,
   "toc_section_display": "block",
   "toc_window_display": false
  }
 },
 "nbformat": 4,
 "nbformat_minor": 4
}
